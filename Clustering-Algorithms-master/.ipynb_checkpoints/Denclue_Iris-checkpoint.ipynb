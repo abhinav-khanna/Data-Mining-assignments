{
 "cells": [
  {
   "cell_type": "code",
   "execution_count": 2,
   "metadata": {},
   "outputs": [],
   "source": [
    "filename = '2-spiral.txt'\n",
    "f = open(filename,'r')\n",
    "\n",
    "datapoints = []\n",
    "\n",
    "for x in f:\n",
    "    temp_ls = []\n",
    "    temp = ''\n",
    "    for ch in x:\n",
    "        if (ch >= '0' and ch <='9') or (ch == '.'):\n",
    "#             print('ch:' + ch +' temp:' + temp)\n",
    "            temp += ch\n",
    "        elif ch == ',':\n",
    "#             print('temp:' + temp)\n",
    "            temp_ls.append(float(temp))\n",
    "            temp = ''\n",
    "        else:\n",
    "            if(temp_ls != []):\n",
    "                datapoints.append(temp_ls)\n",
    "            break\n",
    "\n",
    "# print(datapoints)"
   ]
  }
 ],
 "metadata": {
  "kernelspec": {
   "display_name": "Python 3",
   "language": "python",
   "name": "python3"
  },
  "language_info": {
   "codemirror_mode": {
    "name": "ipython",
    "version": 3
   },
   "file_extension": ".py",
   "mimetype": "text/x-python",
   "name": "python",
   "nbconvert_exporter": "python",
   "pygments_lexer": "ipython3",
   "version": "3.7.7"
  }
 },
 "nbformat": 4,
 "nbformat_minor": 2
}
