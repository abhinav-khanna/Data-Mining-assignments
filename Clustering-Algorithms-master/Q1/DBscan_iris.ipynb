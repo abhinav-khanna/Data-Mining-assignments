{
 "cells": [
  {
   "cell_type": "code",
   "execution_count": 1,
   "metadata": {},
   "outputs": [],
   "source": [
    "filename = 'iris.data'\n",
    "f = open(filename,'r')\n",
    "\n",
    "datapoints = []\n",
    "\n",
    "for x in f:\n",
    "    temp_ls = []\n",
    "    temp = ''\n",
    "    for ch in x:\n",
    "        if (ch >= '0' and ch <='9') or (ch == '.'):\n",
    "#             print('ch:' + ch +' temp:' + temp)\n",
    "            temp += ch\n",
    "        elif ch == ',':\n",
    "#             print('temp:' + temp)\n",
    "            temp_ls.append(float(temp))\n",
    "            temp = ''\n",
    "        else:\n",
    "            if(temp_ls != []):\n",
    "                datapoints.append(temp_ls)\n",
    "            break\n",
    "\n",
    "# print(datapoints)"
   ]
  },
  {
   "cell_type": "code",
   "execution_count": 2,
   "metadata": {},
   "outputs": [],
   "source": [
    "import math\n",
    "def distance(point_a,point_b):\n",
    "    sum = 0\n",
    "    for i in range(len(point_a)):\n",
    "        sum += (point_a[i]-point_b[i])**2\n",
    "    \n",
    "    return math.sqrt(sum)"
   ]
  },
  {
   "cell_type": "code",
   "execution_count": 3,
   "metadata": {},
   "outputs": [],
   "source": [
    "def get_core_points(epsilon,min_pts):\n",
    "    core_points = []\n",
    "\n",
    "    for point_a in datapoints:\n",
    "        neighbors = []\n",
    "        for point_b in datapoints:\n",
    "            if distance(point_a,point_b) < epsilon:\n",
    "                neighbors.append(point_b)\n",
    "\n",
    "        if len(neighbors) > min_pts:\n",
    "            core_points.append(point_a)\n",
    "    \n",
    "    return core_points"
   ]
  },
  {
   "cell_type": "code",
   "execution_count": 4,
   "metadata": {},
   "outputs": [],
   "source": [
    "def density_connected(core_point,cluster_index,cluster_id,core_points):\n",
    "    neighbors = []\n",
    "    for point_a in datapoints:\n",
    "        if (distance(point_a,core_point) < epsilon) and (point_a != core_point):\n",
    "            neighbors.append(point_a)\n",
    "    \n",
    "    for y in neighbors:\n",
    "        if cluster_id[tuple(y)] == -1:\n",
    "#             print('neighbor:' + str(y))\n",
    "            cluster_id[tuple(y)] = cluster_index\n",
    "            if y in core_points:\n",
    "#                 print('is core point')\n",
    "                density_connected(y,cluster_index,cluster_id,core_points)\n",
    "            \n",
    "    "
   ]
  },
  {
   "cell_type": "code",
   "execution_count": 5,
   "metadata": {},
   "outputs": [],
   "source": [
    "def assign_clusters(core_points):\n",
    "    cluster_id = {}\n",
    "\n",
    "    for point in datapoints:\n",
    "        cluster_id[tuple(point)] = -1\n",
    "\n",
    "    cluster_index = 0\n",
    "\n",
    "    for point in core_points:\n",
    "#         print('point:' + str(point))\n",
    "        if cluster_id[tuple(point)] == -1:\n",
    "            cluster_index += 1\n",
    "            cluster_id[tuple(point)] = cluster_index\n",
    "            density_connected(point,cluster_index,cluster_id,core_points)\n",
    "    \n",
    "    return cluster_id"
   ]
  },
  {
   "cell_type": "code",
   "execution_count": 6,
   "metadata": {},
   "outputs": [],
   "source": [
    "def create_clusters(cluster_id):\n",
    "    clusters = {}\n",
    "    for point in datapoints:\n",
    "        if cluster_id[tuple(point)] not in clusters.keys():\n",
    "            clusters[cluster_id[tuple(point)]] = []\n",
    "            clusters[cluster_id[tuple(point)]].append(point)\n",
    "        else:\n",
    "            clusters[cluster_id[tuple(point)]].append(point)\n",
    "    \n",
    "    return clusters"
   ]
  },
  {
   "cell_type": "code",
   "execution_count": 7,
   "metadata": {},
   "outputs": [],
   "source": [
    "def perform_dbscan(epsilon,min_pts):\n",
    "    core_points = get_core_points(epsilon,min_pts)\n",
    "    cluster_id = assign_clusters(core_points)\n",
    "    clusters = create_clusters(cluster_id)\n",
    "    return clusters"
   ]
  },
  {
   "cell_type": "code",
   "execution_count": 8,
   "metadata": {},
   "outputs": [],
   "source": [
    "def calculate_sse(useful_clusters):\n",
    "    sse = 0\n",
    "    for index in useful_clusters:\n",
    "        temp_cluster = useful_clusters[index]\n",
    "        dimension = len(temp_cluster[0])\n",
    "        temp_sum = []\n",
    "        for i in range(dimension):\n",
    "            temp_sum.append(0)\n",
    "        \n",
    "        for point in temp_cluster:\n",
    "            for j in range(dimension):\n",
    "                temp_sum[j] += point[j]\n",
    "        \n",
    "        temp_mean = []\n",
    "        \n",
    "        for j in range(dimension):\n",
    "            temp_mean.append(temp_sum[j]/len(temp_cluster))\n",
    "        \n",
    "        \n",
    "        diff = 0\n",
    "        \n",
    "        for point in temp_cluster:\n",
    "            diff = 0\n",
    "            for j in range(dimension):\n",
    "                diff += temp_mean[j] - point[j]\n",
    "            \n",
    "            sse += diff**2\n",
    "        \n",
    "    return sse\n",
    "            "
   ]
  },
  {
   "cell_type": "code",
   "execution_count": 9,
   "metadata": {},
   "outputs": [
    {
     "name": "stdout",
     "output_type": "stream",
     "text": [
      "232.40061224489784\n",
      "Number of clusters:3\n",
      "Number of noise points:13\n",
      "time taken:0.08380675315856934\n"
     ]
    }
   ],
   "source": [
    "import time\n",
    "\n",
    "epsilon = 0.5\n",
    "min_pts = 3\n",
    "\n",
    "start = time.time()\n",
    "\n",
    "final_clusters = perform_dbscan(epsilon,min_pts)\n",
    "\n",
    "end = time.time()\n",
    "useful_clusters = {}\n",
    "noise = {}\n",
    "for c in final_clusters:\n",
    "    if c == -1:\n",
    "        noise = final_clusters[c]\n",
    "    else:\n",
    "        useful_clusters[c] = final_clusters[c]\n",
    "\n",
    "sse = calculate_sse(useful_clusters)\n",
    "print(sse)\n",
    "print('Number of clusters:' + str(len(useful_clusters)))\n",
    "print('Number of noise points:' + str(len(noise)))\n",
    "print('time taken:' + str(end-start))"
   ]
  }
 ],
 "metadata": {
  "kernelspec": {
   "display_name": "Python 3",
   "language": "python",
   "name": "python3"
  },
  "language_info": {
   "codemirror_mode": {
    "name": "ipython",
    "version": 3
   },
   "file_extension": ".py",
   "mimetype": "text/x-python",
   "name": "python",
   "nbconvert_exporter": "python",
   "pygments_lexer": "ipython3",
   "version": "3.7.7"
  }
 },
 "nbformat": 4,
 "nbformat_minor": 2
}
