{
 "cells": [
  {
   "cell_type": "code",
   "execution_count": 1,
   "metadata": {},
   "outputs": [],
   "source": [
    "filename = 'iris.data'\n",
    "f = open(filename,'r')\n",
    "\n",
    "datapoints = []\n",
    "\n",
    "for x in f:\n",
    "    temp_ls = []\n",
    "    temp = ''\n",
    "    for ch in x:\n",
    "        if (ch >= '0' and ch <='9') or (ch == '.'):\n",
    "#             print('ch:' + ch +' temp:' + temp)\n",
    "            temp += ch\n",
    "        elif ch == ',':\n",
    "#             print('temp:' + temp)\n",
    "            temp_ls.append(float(temp))\n",
    "            temp = ''\n",
    "        else:\n",
    "            if(temp_ls != []):\n",
    "                datapoints.append(temp_ls)\n",
    "            break\n",
    "\n",
    "# print(datapoints)"
   ]
  },
  {
   "cell_type": "code",
   "execution_count": 2,
   "metadata": {},
   "outputs": [
    {
     "name": "stdout",
     "output_type": "stream",
     "text": [
      "[5.1, 3.5, 1.4, 0.2]\n",
      "[4.9, 3.0, 1.4, 0.2]\n",
      "[4.7, 3.2, 1.3, 0.2]\n",
      "[4.6, 3.1, 1.5, 0.2]\n",
      "[5.0, 3.6, 1.4, 0.2]\n",
      "[5.4, 3.9, 1.7, 0.4]\n",
      "[4.6, 3.4, 1.4, 0.3]\n",
      "[5.0, 3.4, 1.5, 0.2]\n",
      "[4.4, 2.9, 1.4, 0.2]\n",
      "[4.9, 3.1, 1.5, 0.1]\n",
      "[5.4, 3.7, 1.5, 0.2]\n",
      "[4.8, 3.4, 1.6, 0.2]\n",
      "[4.8, 3.0, 1.4, 0.1]\n",
      "[4.3, 3.0, 1.1, 0.1]\n",
      "[5.8, 4.0, 1.2, 0.2]\n",
      "[5.7, 4.4, 1.5, 0.4]\n",
      "[5.4, 3.9, 1.3, 0.4]\n",
      "[5.1, 3.5, 1.4, 0.3]\n",
      "[5.7, 3.8, 1.7, 0.3]\n",
      "[5.1, 3.8, 1.5, 0.3]\n",
      "[5.4, 3.4, 1.7, 0.2]\n",
      "[5.1, 3.7, 1.5, 0.4]\n",
      "[4.6, 3.6, 1.0, 0.2]\n",
      "[5.1, 3.3, 1.7, 0.5]\n",
      "[4.8, 3.4, 1.9, 0.2]\n",
      "[5.0, 3.0, 1.6, 0.2]\n",
      "[5.0, 3.4, 1.6, 0.4]\n",
      "[5.2, 3.5, 1.5, 0.2]\n",
      "[5.2, 3.4, 1.4, 0.2]\n",
      "[4.7, 3.2, 1.6, 0.2]\n",
      "[4.8, 3.1, 1.6, 0.2]\n",
      "[5.4, 3.4, 1.5, 0.4]\n",
      "[5.2, 4.1, 1.5, 0.1]\n",
      "[5.5, 4.2, 1.4, 0.2]\n",
      "[4.9, 3.1, 1.5, 0.1]\n",
      "[5.0, 3.2, 1.2, 0.2]\n",
      "[5.5, 3.5, 1.3, 0.2]\n",
      "[4.9, 3.1, 1.5, 0.1]\n",
      "[4.4, 3.0, 1.3, 0.2]\n",
      "[5.1, 3.4, 1.5, 0.2]\n",
      "[5.0, 3.5, 1.3, 0.3]\n",
      "[4.5, 2.3, 1.3, 0.3]\n",
      "[4.4, 3.2, 1.3, 0.2]\n",
      "[5.0, 3.5, 1.6, 0.6]\n",
      "[5.1, 3.8, 1.9, 0.4]\n",
      "[4.8, 3.0, 1.4, 0.3]\n",
      "[5.1, 3.8, 1.6, 0.2]\n",
      "[4.6, 3.2, 1.4, 0.2]\n",
      "[5.3, 3.7, 1.5, 0.2]\n",
      "[5.0, 3.3, 1.4, 0.2]\n",
      "[7.0, 3.2, 4.7, 1.4]\n",
      "[6.4, 3.2, 4.5, 1.5]\n",
      "[6.9, 3.1, 4.9, 1.5]\n",
      "[5.5, 2.3, 4.0, 1.3]\n",
      "[6.5, 2.8, 4.6, 1.5]\n",
      "[5.7, 2.8, 4.5, 1.3]\n",
      "[6.3, 3.3, 4.7, 1.6]\n",
      "[4.9, 2.4, 3.3, 1.0]\n",
      "[6.6, 2.9, 4.6, 1.3]\n",
      "[5.2, 2.7, 3.9, 1.4]\n",
      "[5.0, 2.0, 3.5, 1.0]\n",
      "[5.9, 3.0, 4.2, 1.5]\n",
      "[6.0, 2.2, 4.0, 1.0]\n",
      "[6.1, 2.9, 4.7, 1.4]\n",
      "[5.6, 2.9, 3.6, 1.3]\n",
      "[6.7, 3.1, 4.4, 1.4]\n",
      "[5.6, 3.0, 4.5, 1.5]\n",
      "[5.8, 2.7, 4.1, 1.0]\n",
      "[6.2, 2.2, 4.5, 1.5]\n",
      "[5.6, 2.5, 3.9, 1.1]\n",
      "[5.9, 3.2, 4.8, 1.8]\n",
      "[6.1, 2.8, 4.0, 1.3]\n",
      "[6.3, 2.5, 4.9, 1.5]\n",
      "[6.1, 2.8, 4.7, 1.2]\n",
      "[6.4, 2.9, 4.3, 1.3]\n",
      "[6.6, 3.0, 4.4, 1.4]\n",
      "[6.8, 2.8, 4.8, 1.4]\n",
      "[6.7, 3.0, 5.0, 1.7]\n",
      "[6.0, 2.9, 4.5, 1.5]\n",
      "[5.7, 2.6, 3.5, 1.0]\n",
      "[5.5, 2.4, 3.8, 1.1]\n",
      "[5.5, 2.4, 3.7, 1.0]\n",
      "[5.8, 2.7, 3.9, 1.2]\n",
      "[6.0, 2.7, 5.1, 1.6]\n",
      "[5.4, 3.0, 4.5, 1.5]\n",
      "[6.0, 3.4, 4.5, 1.6]\n",
      "[6.7, 3.1, 4.7, 1.5]\n",
      "[6.3, 2.3, 4.4, 1.3]\n",
      "[5.6, 3.0, 4.1, 1.3]\n",
      "[5.5, 2.5, 4.0, 1.3]\n",
      "[5.5, 2.6, 4.4, 1.2]\n",
      "[6.1, 3.0, 4.6, 1.4]\n",
      "[5.8, 2.6, 4.0, 1.2]\n",
      "[5.0, 2.3, 3.3, 1.0]\n",
      "[5.6, 2.7, 4.2, 1.3]\n",
      "[5.7, 3.0, 4.2, 1.2]\n",
      "[5.7, 2.9, 4.2, 1.3]\n",
      "[6.2, 2.9, 4.3, 1.3]\n",
      "[5.1, 2.5, 3.0, 1.1]\n",
      "[5.7, 2.8, 4.1, 1.3]\n",
      "[6.3, 3.3, 6.0, 2.5]\n",
      "[5.8, 2.7, 5.1, 1.9]\n",
      "[7.1, 3.0, 5.9, 2.1]\n",
      "[6.3, 2.9, 5.6, 1.8]\n",
      "[6.5, 3.0, 5.8, 2.2]\n",
      "[7.6, 3.0, 6.6, 2.1]\n",
      "[4.9, 2.5, 4.5, 1.7]\n",
      "[7.3, 2.9, 6.3, 1.8]\n",
      "[6.7, 2.5, 5.8, 1.8]\n",
      "[7.2, 3.6, 6.1, 2.5]\n",
      "[6.5, 3.2, 5.1, 2.0]\n",
      "[6.4, 2.7, 5.3, 1.9]\n",
      "[6.8, 3.0, 5.5, 2.1]\n",
      "[5.7, 2.5, 5.0, 2.0]\n",
      "[5.8, 2.8, 5.1, 2.4]\n",
      "[6.4, 3.2, 5.3, 2.3]\n",
      "[6.5, 3.0, 5.5, 1.8]\n",
      "[7.7, 3.8, 6.7, 2.2]\n",
      "[7.7, 2.6, 6.9, 2.3]\n",
      "[6.0, 2.2, 5.0, 1.5]\n",
      "[6.9, 3.2, 5.7, 2.3]\n",
      "[5.6, 2.8, 4.9, 2.0]\n",
      "[7.7, 2.8, 6.7, 2.0]\n",
      "[6.3, 2.7, 4.9, 1.8]\n",
      "[6.7, 3.3, 5.7, 2.1]\n",
      "[7.2, 3.2, 6.0, 1.8]\n",
      "[6.2, 2.8, 4.8, 1.8]\n",
      "[6.1, 3.0, 4.9, 1.8]\n",
      "[6.4, 2.8, 5.6, 2.1]\n",
      "[7.2, 3.0, 5.8, 1.6]\n",
      "[7.4, 2.8, 6.1, 1.9]\n",
      "[7.9, 3.8, 6.4, 2.0]\n",
      "[6.4, 2.8, 5.6, 2.2]\n",
      "[6.3, 2.8, 5.1, 1.5]\n",
      "[6.1, 2.6, 5.6, 1.4]\n",
      "[7.7, 3.0, 6.1, 2.3]\n",
      "[6.3, 3.4, 5.6, 2.4]\n",
      "[6.4, 3.1, 5.5, 1.8]\n",
      "[6.0, 3.0, 4.8, 1.8]\n",
      "[6.9, 3.1, 5.4, 2.1]\n",
      "[6.7, 3.1, 5.6, 2.4]\n",
      "[6.9, 3.1, 5.1, 2.3]\n",
      "[5.8, 2.7, 5.1, 1.9]\n",
      "[6.8, 3.2, 5.9, 2.3]\n",
      "[6.7, 3.3, 5.7, 2.5]\n",
      "[6.7, 3.0, 5.2, 2.3]\n",
      "[6.3, 2.5, 5.0, 1.9]\n",
      "[6.5, 3.0, 5.2, 2.0]\n",
      "[6.2, 3.4, 5.4, 2.3]\n",
      "[5.9, 3.0, 5.1, 1.8]\n"
     ]
    }
   ],
   "source": [
    "for i in datapoints:\n",
    "    print(i)"
   ]
  },
  {
   "cell_type": "code",
   "execution_count": 3,
   "metadata": {},
   "outputs": [
    {
     "name": "stdout",
     "output_type": "stream",
     "text": [
      "150\n"
     ]
    }
   ],
   "source": [
    "print(len(datapoints))"
   ]
  },
  {
   "cell_type": "code",
   "execution_count": 4,
   "metadata": {
    "scrolled": true
   },
   "outputs": [],
   "source": [
    "import random\n",
    "def assign_random_means(K):\n",
    "    means_index = random.sample(range(0, 149), K)\n",
    "    cluster_means = []\n",
    "    for i in range(K):\n",
    "        temp_pt = datapoints[means_index[i]]\n",
    "        cluster_means.append(temp_pt)\n",
    "    \n",
    "#     print(cluster_means)\n",
    "    return cluster_means\n"
   ]
  },
  {
   "cell_type": "code",
   "execution_count": 5,
   "metadata": {},
   "outputs": [],
   "source": [
    "def distance(point_a,point_b):\n",
    "    sum = 0\n",
    "    for i in range(len(point_a)):\n",
    "        sum += (point_a[i]-point_b[i])**2\n",
    "    \n",
    "    return (sum)"
   ]
  },
  {
   "cell_type": "code",
   "execution_count": 6,
   "metadata": {},
   "outputs": [],
   "source": [
    "def create_clusters(cluster_means,K):\n",
    "    cluster = {}\n",
    "    for i in range(K):\n",
    "        cluster[i] = []\n",
    "\n",
    "    for point in datapoints:\n",
    "        min_dist = 1000\n",
    "        temp_cluster = -1\n",
    "        for mean_index in range(len(cluster_means)):\n",
    "            temp_distance = distance(point,cluster_means[mean_index])\n",
    "            if temp_distance < min_dist:\n",
    "                min_dist = temp_distance\n",
    "                temp_cluster = mean_index\n",
    "\n",
    "        cluster[temp_cluster].append(point)\n",
    "    return cluster\n",
    "        "
   ]
  },
  {
   "cell_type": "code",
   "execution_count": 7,
   "metadata": {},
   "outputs": [],
   "source": [
    "def update_mean(cluster):\n",
    "    new_means = []\n",
    "    for c in cluster:\n",
    "        temp_ls = cluster[c]\n",
    "        if temp_ls == []:\n",
    "            continue\n",
    "        sum_ls = []\n",
    "        dimension = len(temp_ls[0])\n",
    "#         print('dimension:' + str(dimension))\n",
    "        \n",
    "        for i in range(dimension):\n",
    "            sum_ls.append(0)\n",
    "        \n",
    "        for i in range(len(temp_ls)):\n",
    "            for j in range(dimension):\n",
    "                sum_ls[j] += temp_ls[i][j]\n",
    "        \n",
    "        avg_point = []\n",
    "        for j in range(dimension):\n",
    "            avg_point.append(sum_ls[j]/len(temp_ls))\n",
    "        \n",
    "        new_means.append(avg_point)\n",
    "    return new_means"
   ]
  },
  {
   "cell_type": "code",
   "execution_count": 8,
   "metadata": {},
   "outputs": [],
   "source": [
    "def converge(new_means, prev_means, allowed_diff):\n",
    "    diff = 0\n",
    "    for i in range(len(new_means)):\n",
    "        dimension = len(new_means[0])\n",
    "        for j in range(dimension):\n",
    "            diff += abs(new_means[i][j] - prev_means[i][j])\n",
    "    \n",
    "    if diff <= allowed_diff:\n",
    "        return True\n",
    "    \n",
    "    return False"
   ]
  },
  {
   "cell_type": "code",
   "execution_count": 20,
   "metadata": {
    "scrolled": true
   },
   "outputs": [],
   "source": [
    "def perform_K_means(K):\n",
    "\n",
    "    cluster = {}\n",
    "    for i in range(K):\n",
    "        cluster[i] = []\n",
    "        \n",
    "    cluster_means = assign_random_means(K)\n",
    "\n",
    "    allowed_diff = 0\n",
    "    iteration_count = 0\n",
    "\n",
    "    while(True):\n",
    "        cluster = create_clusters(cluster_means,K)\n",
    "    #     print(cluster)\n",
    "        prev_means = cluster_means\n",
    "        new_means = update_mean(cluster)\n",
    "\n",
    "#         print('iteration count:' + str(iteration_count))\n",
    "        iteration_count += 1\n",
    "    #     print(cluster_means)\n",
    "#         print()\n",
    "#         print(new_means)\n",
    "        flag = 0\n",
    "#         print()\n",
    "        if converge(new_means, prev_means, allowed_diff):\n",
    "#             print('convergence')\n",
    "            flag = 1\n",
    "            break\n",
    "        else:\n",
    "            cluster_means = new_means\n",
    "\n",
    "        if flag == 1:\n",
    "            break\n",
    "    \n",
    "    return (cluster,new_means)"
   ]
  },
  {
   "cell_type": "code",
   "execution_count": 21,
   "metadata": {},
   "outputs": [],
   "source": [
    "def calculate_sse(cluster,means,k):\n",
    "    total_sum = 0;\n",
    "    for i in range(k):\n",
    "        for j in range(len(cluster[i])):\n",
    "            diff = 0\n",
    "            dimension = len(cluster[i][0])\n",
    "            for d in range(dimension):\n",
    "                diff += (cluster[i][j][d] - means[i][d])\n",
    "            \n",
    "            total_sum += diff**2\n",
    "    \n",
    "    return total_sum"
   ]
  },
  {
   "cell_type": "code",
   "execution_count": 22,
   "metadata": {},
   "outputs": [],
   "source": [
    "sse = []\n",
    "\n",
    "for i in range(1,30):\n",
    "    (final_clusters,final_means)= perform_K_means(i)\n",
    "    sse.append(calculate_sse(final_clusters,final_means,i))"
   ]
  },
  {
   "cell_type": "code",
   "execution_count": 26,
   "metadata": {},
   "outputs": [
    {
     "name": "stdout",
     "output_type": "stream",
     "text": [
      "time taken for 3 clusters:0.004987955093383789\n"
     ]
    }
   ],
   "source": [
    "import time\n",
    "\n",
    "start = time.time()\n",
    "(final_clusters,final_means)= perform_K_means(3)\n",
    "end = time.time()\n",
    "\n",
    "print('time taken for 3 clusters:' + str(end-start))"
   ]
  },
  {
   "cell_type": "code",
   "execution_count": 23,
   "metadata": {
    "scrolled": true
   },
   "outputs": [
    {
     "data": {
      "text/plain": [
       "29"
      ]
     },
     "execution_count": 23,
     "metadata": {},
     "output_type": "execute_result"
    }
   ],
   "source": [
    "len(sse)"
   ]
  },
  {
   "cell_type": "code",
   "execution_count": 24,
   "metadata": {},
   "outputs": [
    {
     "data": {
      "image/png": "[encoded data removed]",
      "text/plain": [
       "<Figure size 432x288 with 1 Axes>"
      ]
     },
     "metadata": {
      "needs_background": "light"
     },
     "output_type": "display_data"
    }
   ],
   "source": [
    "import matplotlib.pyplot as plt \n",
    "\n",
    "num_clusters = []\n",
    "for i in range(1,30):\n",
    "    num_clusters.append(i)\n",
    "\n",
    "plt.plot(num_clusters, sse) \n",
    "plt.scatter(num_clusters, sse, c = 'red', marker = 'x')\n",
    "\n",
    "plt.xlabel('K(number of clusters)') \n",
    "plt.ylabel('SSE') \n",
    "\n",
    "plt.title('SSE vs num of clusters') \n",
    "\n",
    "plt.show() \n"
   ]
  },
  {
   "cell_type": "code",
   "execution_count": 25,
   "metadata": {},
   "outputs": [
    {
     "name": "stdout",
     "output_type": "stream",
     "text": [
      "[1458.0117333333321, 373.47141801206, 166.98093114754104, 95.41826392276428, 75.6761076923077, 74.86610434782607, 68.1194772727273, 42.22727330238203, 50.89092491779321, 43.837650840705194, 32.73487226516176, 36.976306281953356, 28.974347440507614, 32.57029377974966, 43.47212463768119, 31.443117035742027, 27.377538838612377, 28.916086829836843, 25.22397283272285, 18.89798051948051, 15.719789987789989, 29.433516206016222, 17.54155916305916, 12.600001831501833, 18.490619883040946, 17.762174242424244, 16.130198412698423, 15.129698412698408, 12.522819014319026]\n"
     ]
    }
   ],
   "source": [
    "print(sse)"
   ]
  }
 ],
 "metadata": {
  "kernelspec": {
   "display_name": "Python 3",
   "language": "python",
   "name": "python3"
  },
  "language_info": {
   "codemirror_mode": {
    "name": "ipython",
    "version": 3
   },
   "file_extension": ".py",
   "mimetype": "text/x-python",
   "name": "python",
   "nbconvert_exporter": "python",
   "pygments_lexer": "ipython3",
   "version": "3.7.7"
  }
 },
 "nbformat": 4,
 "nbformat_minor": 2
}
