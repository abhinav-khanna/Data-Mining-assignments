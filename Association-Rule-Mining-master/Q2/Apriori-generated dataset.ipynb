{
 "cells": [
  {
   "cell_type": "code",
   "execution_count": 1,
   "metadata": {},
   "outputs": [],
   "source": [
    "#Function to take union and intersection of 2 tuples\n",
    "\n",
    "def intersection_count(itemset_a, itemset_b):\n",
    "    #item_a and #item_b are already 2 tuples\n",
    "    common_items = tuple(set(itemset_a).intersection(itemset_b))\n",
    "    return len(common_items)\n",
    "\n",
    "def union(itemset_a, itemset_b):\n",
    "    return tuple(set(itemset_a + itemset_b))\n"
   ]
  },
  {
   "cell_type": "code",
   "execution_count": 2,
   "metadata": {},
   "outputs": [],
   "source": [
    "import itertools\n",
    "def get_subset(items, k):\n",
    "    arr = []\n",
    "    for subset in itertools.combinations(items,k):\n",
    "        arr.append(subset)\n",
    "    return arr"
   ]
  },
  {
   "cell_type": "code",
   "execution_count": 68,
   "metadata": {
    "scrolled": true
   },
   "outputs": [
    {
     "name": "stdout",
     "output_type": "stream",
     "text": [
      "removed element:()\n",
      "removed element:('3',)\n",
      "removed element:('2',)\n",
      "removed element:('6',)\n",
      "removed element:('1',)\n",
      "removed element:('7',)\n",
      "removed element:('4',)\n",
      "removed element:('8',)\n",
      "removed element:('9',)\n",
      "removed element:('5',)\n"
     ]
    }
   ],
   "source": [
    "#Code to read from the dataset file and obtain frequent 1-itemsets\n",
    "\n",
    "filename = 'generated_dataset.txt'\n",
    "f = open(filename,'r')\n",
    "mp = []\n",
    "mp.append({None:0})\n",
    "\n",
    "min_sup  = 10   #Set minimum support = 0.01\n",
    "\n",
    "temp_mp = {}\n",
    "for x in f:   \n",
    "    word = ''\n",
    "    ls = []\n",
    "    for i in range(len(x)):\n",
    "        if (x[i] == '\\n' or i == len(x) or ord(x[i]) == 10):\n",
    "            ls = []\n",
    "            if(word != ''):\n",
    "                ls.append(word)\n",
    "            if tuple(ls) in temp_mp.keys() and tuple(ls) != ():\n",
    "                temp_mp[tuple(ls)] += 1\n",
    "            else:\n",
    "                temp_mp[tuple(ls)] = 1    \n",
    "            word = ''\n",
    "        elif(x[i] == ' ' or x[i] == ''):\n",
    "            ls = []\n",
    "            if(word != ''):\n",
    "                ls.append(word)\n",
    "            if (tuple(ls) in temp_mp.keys()) and tuple(ls) != ():\n",
    "                temp_mp[tuple(ls)] += 1\n",
    "            else:\n",
    "                temp_mp[tuple(ls)] = 1 \n",
    "            word = ''\n",
    "        else:\n",
    "            word += x[i]   \n",
    "            \n",
    "#Code to remove all infrequent items\n",
    "for k in list(temp_mp):\n",
    "    if temp_mp[k] < min_sup:\n",
    "        print('removed element:' + str(k))\n",
    "        temp_mp.pop(k)\n",
    "        \n",
    "mp.append(temp_mp)    "
   ]
  },
  {
   "cell_type": "code",
   "execution_count": 69,
   "metadata": {},
   "outputs": [
    {
     "name": "stdout",
     "output_type": "stream",
     "text": [
      "90\n"
     ]
    }
   ],
   "source": [
    "print(len(mp[1]))"
   ]
  },
  {
   "cell_type": "code",
   "execution_count": 70,
   "metadata": {},
   "outputs": [
    {
     "name": "stdout",
     "output_type": "stream",
     "text": [
      "k:2\n",
      "len:{('55', '99'): 11, ('77', '99'): 11, ('95', '99'): 11, ('93', '99'): 11, ('94', '99'): 13, ('90', '99'): 13, ('86', '99'): 13, ('96', '99'): 13, ('89', '99'): 13, ('92', '99'): 11, ('88', '99'): 12, ('73', '82'): 13, ('72', '73'): 15, ('75', '82'): 12, ('48', '75'): 10, ('72', '75'): 10, ('75', '94'): 10, ('75', '89'): 11, ('75', '92'): 10, ('75', '78'): 10, ('79', '83'): 10, ('69', '79'): 11, ('79', '93'): 11, ('64', '79'): 10, ('79', '96'): 13, ('79', '97'): 11, ('72', '82'): 11, ('82', '93'): 13, ('81', '82'): 10, ('82', '86'): 12, ('82', '96'): 10, ('82', '87'): 11, ('82', '97'): 11, ('55', '94'): 10, ('55', '66'): 10, ('65', '96'): 11, ('72', '83'): 10, ('72', '98'): 12, ('72', '96'): 10, ('72', '88'): 10, ('83', '98'): 11, ('76', '83'): 11, ('83', '96'): 10, ('83', '88'): 10, ('70', '83'): 10, ('77', '98'): 11, ('94', '98'): 13, ('90', '98'): 17, ('86', '98'): 13, ('92', '98'): 11, ('91', '98'): 14, ('84', '98'): 12, ('88', '98'): 12, ('53', '98'): 10, ('85', '98'): 13, ('62', '98'): 10, ('69', '90'): 10, ('69', '92'): 11, ('77', '84'): 16, ('93', '95'): 16, ('89', '95'): 12, ('92', '95'): 18, ('88', '95'): 10, ('71', '93'): 13, ('71', '81'): 10, ('93', '94'): 10, ('51', '93'): 10, ('93', '96'): 10, ('89', '93'): 13, ('92', '93'): 11, ('88', '93'): 11, ('74', '93'): 10, ('76', '94'): 10, ('81', '94'): 12, ('94', '96'): 11, ('43', '94'): 10, ('94', '97'): 14, ('68', '94'): 14, ('85', '94'): 11, ('62', '94'): 10, ('61', '97'): 11, ('76', '81'): 11, ('76', '86'): 11, ('76', '89'): 11, ('76', '91'): 10, ('81', '97'): 11, ('87', '90'): 10, ('90', '92'): 12, ('84', '90'): 11, ('70', '90'): 10, ('80', '90'): 12, ('86', '96'): 12, ('86', '89'): 12, ('86', '91'): 10, ('86', '88'): 10, ('70', '86'): 10, ('86', '97'): 13, ('89', '96'): 10, ('70', '96'): 11, ('85', '96'): 12, ('67', '85'): 10, ('87', '92'): 10, ('52', '87'): 11, ('84', '87'): 11, ('68', '87'): 10, ('88', '89'): 11, ('91', '92'): 11, ('88', '91'): 10, ('91', '97'): 10, ('85', '91'): 18, ('62', '78'): 11, ('84', '97'): 12, ('80', '84'): 11, ('85', '88'): 10, ('70', '85'): 11, ('66', '97'): 12, ('85', '97'): 10, ('63', '97'): 11, ('74', '85'): 10, ('68', '85'): 11, ('62', '85'): 16}\n",
      "\n",
      "time taken:0.6372973918914795\n",
      "k:3\n",
      "len:{}\n",
      "\n",
      "time taken:0.11668634414672852\n",
      "k:4\n"
     ]
    }
   ],
   "source": [
    "import time\n",
    "total_items = len(mp[1])\n",
    "\n",
    "\n",
    "for k in range(2,10):\n",
    "    # Step 1: Generate candidate itemsets at level k\n",
    "    \n",
    "    start = time.time()\n",
    "    print('k:' + str(k))\n",
    "    temp_mp = {}\n",
    "    for i in mp[k-1].keys():\n",
    "        for j in mp[k-1].keys():\n",
    "            if i != j:\n",
    "                if intersection_count(i,j) == (k-2):\n",
    "                    new_itemset = union(i,j)\n",
    "#                     print('new itemset:' + str(new_itemset))\n",
    "                    temp_ls = list(new_itemset)\n",
    "                    if(new_itemset != () and temp_ls != None):\n",
    "                        temp_ls.sort()\n",
    "                        new_itemset = tuple(temp_ls)\n",
    "                    \n",
    "                    temp_mp[new_itemset] = 0\n",
    "    if temp_mp == {}:\n",
    "        break\n",
    "    \n",
    "    #Step 2: Read one transaction at a time\n",
    "    \n",
    "    filename = 'generated_dataset.txt'\n",
    "    f = open(filename,'r')\n",
    "    for x in f:\n",
    "        word = ''\n",
    "        items = []\n",
    "        for i in range(len(x)):\n",
    "            if (x[i] == '\\n' or i == len(x) or ord(x[i]) == 10):\n",
    "                if(word != ''):\n",
    "                    items.append(word) \n",
    "                word = ''\n",
    "            elif(x[i] == ' ' or x[i] == ''):\n",
    "                if(word != ''):\n",
    "                    items.append(word)\n",
    "                word = ''    \n",
    "            else:\n",
    "                word += x[i] \n",
    "\n",
    "        # Step 3: For each transaction, generate all subsets of length k, and increment the support of those candidate\n",
    "        # itemsets present in the generated subsets\n",
    "\n",
    "        k_subset = get_subset(items,k)\n",
    "        \n",
    "        for itemset in k_subset:\n",
    "            temp_ls = list(itemset)\n",
    "            temp_ls.sort()\n",
    "            itemset = tuple(temp_ls)\n",
    "            if itemset in temp_mp.keys():\n",
    "                temp_mp[itemset] +=1 \n",
    "        \n",
    "        new_temp_mp = {}\n",
    "        \n",
    "        for i in temp_mp.keys():\n",
    "            if temp_mp[i] >= min_sup:\n",
    "                new_temp_mp[i] = temp_mp[i]\n",
    "    \n",
    "    print('len:' + str(new_temp_mp))\n",
    "    print()\n",
    "    end = time.time()\n",
    "    print('time taken:' + str(end-start))\n",
    "    mp.append(new_temp_mp)    "
   ]
  },
  {
   "cell_type": "code",
   "execution_count": null,
   "metadata": {},
   "outputs": [],
   "source": []
  },
  {
   "cell_type": "code",
   "execution_count": null,
   "metadata": {},
   "outputs": [],
   "source": []
  },
  {
   "cell_type": "code",
   "execution_count": null,
   "metadata": {},
   "outputs": [],
   "source": []
  },
  {
   "cell_type": "code",
   "execution_count": null,
   "metadata": {},
   "outputs": [],
   "source": []
  },
  {
   "cell_type": "code",
   "execution_count": null,
   "metadata": {},
   "outputs": [],
   "source": []
  },
  {
   "cell_type": "code",
   "execution_count": null,
   "metadata": {},
   "outputs": [],
   "source": []
  },
  {
   "cell_type": "code",
   "execution_count": null,
   "metadata": {},
   "outputs": [],
   "source": []
  },
  {
   "cell_type": "code",
   "execution_count": null,
   "metadata": {},
   "outputs": [],
   "source": []
  },
  {
   "cell_type": "code",
   "execution_count": null,
   "metadata": {},
   "outputs": [],
   "source": []
  }
 ],
 "metadata": {
  "kernelspec": {
   "display_name": "Python 3",
   "language": "python",
   "name": "python3"
  },
  "language_info": {
   "codemirror_mode": {
    "name": "ipython",
    "version": 3
   },
   "file_extension": ".py",
   "mimetype": "text/x-python",
   "name": "python",
   "nbconvert_exporter": "python",
   "pygments_lexer": "ipython3",
   "version": "3.7.7"
  }
 },
 "nbformat": 4,
 "nbformat_minor": 2
}
