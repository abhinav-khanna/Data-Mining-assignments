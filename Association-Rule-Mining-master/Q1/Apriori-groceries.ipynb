{
 "cells": [
  {
   "cell_type": "code",
   "execution_count": 1,
   "metadata": {},
   "outputs": [],
   "source": [
    "#Function to take union and intersection of 2 tuples\n",
    "\n",
    "def intersection_count(itemset_a, itemset_b):\n",
    "    #item_a and #item_b are already 2 tuples\n",
    "    common_items = tuple(set(itemset_a).intersection(itemset_b))\n",
    "    return len(common_items)\n",
    "\n",
    "def union(itemset_a, itemset_b):\n",
    "    return tuple(set(itemset_a + itemset_b))"
   ]
  },
  {
   "cell_type": "code",
   "execution_count": 2,
   "metadata": {
    "scrolled": true
   },
   "outputs": [
    {
     "name": "stdout",
     "output_type": "stream",
     "text": [
      "removed element:('ready soups',)\n",
      "removed element:('meat spreads',)\n",
      "removed element:('rice',)\n",
      "removed element:('abrasive cleaner',)\n",
      "removed element:('liquor (appetizer)',)\n",
      "removed element:('cereals',)\n",
      "removed element:('sweet spreads',)\n",
      "removed element:('bathroom cleaner',)\n",
      "removed element:('spices',)\n",
      "removed element:('artif. sweetener',)\n",
      "removed element:('zwieback',)\n",
      "removed element:('turkey',)\n",
      "removed element:('chocolate marshmallow',)\n",
      "removed element:('curd cheese',)\n",
      "removed element:('frozen potato products',)\n",
      "removed element:('specialty fat',)\n",
      "removed element:('candles',)\n",
      "removed element:('sparkling wine',)\n",
      "removed element:('brandy',)\n",
      "removed element:('photo/film',)\n",
      "removed element:('softener',)\n",
      "removed element:('fish',)\n",
      "removed element:('male cosmetics',)\n",
      "removed element:('canned fruit',)\n",
      "removed element:('Instant food products',)\n",
      "removed element:('honey',)\n",
      "removed element:('dental care',)\n",
      "removed element:('popcorn',)\n",
      "removed element:('snack products',)\n",
      "removed element:('flower soil/fertilizer',)\n",
      "removed element:('specialty cheese',)\n",
      "removed element:('finished products',)\n",
      "removed element:('cocoa drinks',)\n",
      "removed element:('dog food',)\n",
      "removed element:('prosecco',)\n",
      "removed element:('make up remover',)\n",
      "removed element:('cleaner',)\n",
      "removed element:('female sanitary products',)\n",
      "removed element:('cookware',)\n",
      "removed element:('tea',)\n",
      "removed element:('house keeping products',)\n",
      "removed element:('skin care',)\n",
      "removed element:('potato products',)\n",
      "removed element:('pet care',)\n",
      "removed element:('soups',)\n",
      "removed element:('rum',)\n",
      "removed element:('salad dressing',)\n",
      "removed element:('sauces',)\n",
      "removed element:('vinegar',)\n",
      "removed element:('soap',)\n",
      "removed element:('hair spray',)\n",
      "removed element:('instant coffee',)\n",
      "removed element:('mayonnaise',)\n",
      "removed element:('rubbing alcohol',)\n",
      "removed element:('syrup',)\n",
      "removed element:('liver loaf',)\n",
      "removed element:('baby cosmetics',)\n",
      "removed element:('organic products',)\n",
      "removed element:('nut snack',)\n",
      "removed element:('kitchen towels',)\n",
      "removed element:('frozen chicken',)\n",
      "removed element:('light bulbs',)\n",
      "removed element:('ketchup',)\n",
      "removed element:('jam',)\n",
      "removed element:('decalcifier',)\n",
      "removed element:('nuts/prunes',)\n",
      "removed element:('liqueur',)\n",
      "removed element:('organic sausage',)\n",
      "removed element:('cream',)\n",
      "removed element:('toilet cleaner',)\n",
      "removed element:('specialty vegetables',)\n",
      "removed element:('baby food',)\n",
      "removed element:('pudding powder',)\n",
      "removed element:('tidbits',)\n",
      "removed element:('whisky',)\n",
      "removed element:('frozen fruits',)\n",
      "removed element:('bags',)\n",
      "removed element:('cooking chocolate',)\n",
      "removed element:('sound storage medium',)\n",
      "removed element:('kitchen utensil',)\n",
      "removed element:('preservation products',)\n"
     ]
    }
   ],
   "source": [
    "#Code to read from the dataset file and obtain frequent 1-itemsets\n",
    "\n",
    "filename = 'groceries.csv'\n",
    "f = open(filename,'r')\n",
    "mp = []\n",
    "mp.append({None:0})\n",
    "\n",
    "min_sup  = 100   #Set minimum support = 0.01\n",
    "\n",
    "temp_mp = {}\n",
    "for x in f:   \n",
    "    word = ''\n",
    "    ls = []\n",
    "    for i in range(len(x)):\n",
    "        if (x[i] == '\\n' or i == len(x) or ord(x[i]) == 10):\n",
    "            ls = []\n",
    "            ls.append(word)\n",
    "            if tuple(ls) in temp_mp.keys():\n",
    "                temp_mp[tuple(ls)] += 1\n",
    "            else:\n",
    "                temp_mp[tuple(ls)] = 1    \n",
    "            word = ''\n",
    "        elif(x[i] == ','):\n",
    "            ls = []\n",
    "            ls.append(word)\n",
    "            if tuple(ls) in temp_mp.keys():\n",
    "                temp_mp[tuple(ls)] += 1\n",
    "            else:\n",
    "                temp_mp[tuple(ls)] = 1 \n",
    "            word = ''\n",
    "        else:\n",
    "            word += x[i]   \n",
    "            \n",
    "\n",
    "\n",
    "#Code to remove all infrequent items\n",
    "for k in list(temp_mp):\n",
    "    if temp_mp[k] < min_sup:\n",
    "        print('removed element:' + str(k))\n",
    "        temp_mp.pop(k)\n",
    "        \n",
    "mp.append(temp_mp)    "
   ]
  },
  {
   "cell_type": "code",
   "execution_count": 3,
   "metadata": {},
   "outputs": [
    {
     "name": "stdout",
     "output_type": "stream",
     "text": [
      "88\n"
     ]
    }
   ],
   "source": [
    "print(len(mp[1]))"
   ]
  },
  {
   "cell_type": "code",
   "execution_count": 4,
   "metadata": {},
   "outputs": [],
   "source": [
    "import itertools\n",
    "def get_subset(items, k):\n",
    "    arr = []\n",
    "    for subset in itertools.combinations(items,k):\n",
    "        arr.append(subset)\n",
    "    return arr"
   ]
  },
  {
   "cell_type": "code",
   "execution_count": 5,
   "metadata": {
    "scrolled": true
   },
   "outputs": [
    {
     "name": "stdout",
     "output_type": "stream",
     "text": [
      "k:2\n",
      "len:{('citrus fruit', 'tropical fruit'): 196, ('citrus fruit', 'yogurt'): 213, ('citrus fruit', 'whole milk'): 300, ('citrus fruit', 'pip fruit'): 136, ('citrus fruit', 'other vegetables'): 284, ('citrus fruit', 'rolls/buns'): 165, ('bottled water', 'citrus fruit'): 133, ('citrus fruit', 'soda'): 126, ('citrus fruit', 'fruit/vegetable juice'): 102, ('citrus fruit', 'root vegetables'): 174, ('citrus fruit', 'sausage'): 111, ('citrus fruit', 'whipped/sour cream'): 107, ('citrus fruit', 'domestic eggs'): 102, ('margarine', 'yogurt'): 140, ('margarine', 'whole milk'): 238, ('margarine', 'other vegetables'): 194, ('margarine', 'rolls/buns'): 145, ('bottled water', 'margarine'): 101, ('margarine', 'soda'): 100, ('margarine', 'root vegetables'): 109, ('tropical fruit', 'yogurt'): 288, ('tropical fruit', 'whole milk'): 416, ('pip fruit', 'tropical fruit'): 201, ('other vegetables', 'tropical fruit'): 353, ('rolls/buns', 'tropical fruit'): 242, ('bottled water', 'tropical fruit'): 182, ('curd', 'tropical fruit'): 101, ('soda', 'tropical fruit'): 205, ('fruit/vegetable juice', 'tropical fruit'): 135, ('newspapers', 'tropical fruit'): 116, ('pastry', 'tropical fruit'): 130, ('root vegetables', 'tropical fruit'): 207, ('sausage', 'tropical fruit'): 137, ('brown bread', 'tropical fruit'): 105, ('shopping bags', 'tropical fruit'): 133, ('tropical fruit', 'whipped/sour cream'): 136, ('domestic eggs', 'tropical fruit'): 112, ('whole milk', 'yogurt'): 551, ('pip fruit', 'yogurt'): 177, ('cream cheese', 'yogurt'): 122, ('other vegetables', 'yogurt'): 427, ('butter', 'yogurt'): 144, ('rolls/buns', 'yogurt'): 338, ('bottled water', 'yogurt'): 226, ('curd', 'yogurt'): 170, ('beef', 'yogurt'): 115, ('frankfurter', 'yogurt'): 110, ('soda', 'yogurt'): 269, ('fruit/vegetable juice', 'yogurt'): 184, ('newspapers', 'yogurt'): 151, ('pastry', 'yogurt'): 174, ('root vegetables', 'yogurt'): 254, ('sausage', 'yogurt'): 193, ('brown bread', 'yogurt'): 143, ('shopping bags', 'yogurt'): 150, ('napkins', 'yogurt'): 121, ('berries', 'yogurt'): 104, ('whipped/sour cream', 'yogurt'): 204, ('domestic eggs', 'yogurt'): 141, ('frozen vegetables', 'yogurt'): 122, ('coffee', 'whole milk'): 184, ('coffee', 'other vegetables'): 132, ('coffee', 'rolls/buns'): 108, ('pip fruit', 'whole milk'): 296, ('cream cheese', 'whole milk'): 162, ('other vegetables', 'whole milk'): 736, ('long life bakery product', 'whole milk'): 133, ('butter', 'whole milk'): 271, ('rolls/buns', 'whole milk'): 557, ('bottled beer', 'whole milk'): 201, ('white bread', 'whole milk'): 168, ('bottled water', 'whole milk'): 338, ('chocolate', 'whole milk'): 164, ('curd', 'whole milk'): 257, ('beef', 'whole milk'): 209, ('frankfurter', 'whole milk'): 202, ('soda', 'whole milk'): 394, ('chicken', 'whole milk'): 173, ('sugar', 'whole milk'): 148, ('fruit/vegetable juice', 'whole milk'): 262, ('newspapers', 'whole milk'): 269, ('butter milk', 'whole milk'): 114, ('pastry', 'whole milk'): 327, ('root vegetables', 'whole milk'): 481, ('salty snack', 'whole milk'): 110, ('waffles', 'whole milk'): 125, ('sausage', 'whole milk'): 294, ('brown bread', 'whole milk'): 248, ('shopping bags', 'whole milk'): 241, ('hamburger meat', 'whole milk'): 145, ('hygiene articles', 'whole milk'): 126, ('napkins', 'whole milk'): 194, ('pork', 'whole milk'): 218, ('berries', 'whole milk'): 116, ('whipped/sour cream', 'whole milk'): 317, ('dessert', 'whole milk'): 135, ('domestic eggs', 'whole milk'): 295, ('ham', 'whole milk'): 113, ('oil', 'whole milk'): 111, ('frozen vegetables', 'whole milk'): 201, ('onions', 'whole milk'): 119, ('sliced cheese', 'whole milk'): 106, ('other vegetables', 'pip fruit'): 257, ('pip fruit', 'rolls/buns'): 137, ('bottled water', 'pip fruit'): 104, ('pip fruit', 'soda'): 131, ('pastry', 'pip fruit'): 105, ('pip fruit', 'root vegetables'): 153, ('pip fruit', 'sausage'): 106, ('cream cheese', 'other vegetables'): 135, ('long life bakery product', 'other vegetables'): 105, ('butter', 'other vegetables'): 197, ('other vegetables', 'rolls/buns'): 419, ('bottled beer', 'other vegetables'): 159, ('other vegetables', 'white bread'): 135, ('bottled water', 'other vegetables'): 244, ('chocolate', 'other vegetables'): 125, ('curd', 'other vegetables'): 169, ('beef', 'other vegetables'): 194, ('frankfurter', 'other vegetables'): 162, ('other vegetables', 'soda'): 322, ('chicken', 'other vegetables'): 176, ('other vegetables', 'sugar'): 106, ('fruit/vegetable juice', 'other vegetables'): 207, ('newspapers', 'other vegetables'): 190, ('butter milk', 'other vegetables'): 102, ('other vegetables', 'pastry'): 222, ('other vegetables', 'root vegetables'): 466, ('other vegetables', 'salty snack'): 106, ('other vegetables', 'sausage'): 265, ('brown bread', 'other vegetables'): 184, ('other vegetables', 'shopping bags'): 228, ('hamburger meat', 'other vegetables'): 136, ('napkins', 'other vegetables'): 142, ('other vegetables', 'pork'): 213, ('berries', 'other vegetables'): 101, ('other vegetables', 'whipped/sour cream'): 284, ('dessert', 'other vegetables'): 114, ('domestic eggs', 'other vegetables'): 219, ('frozen vegetables', 'other vegetables'): 175, ('onions', 'other vegetables'): 140, ('butter', 'rolls/buns'): 132, ('butter', 'root vegetables'): 127, ('butter', 'whipped/sour cream'): 100, ('bottled beer', 'rolls/buns'): 134, ('bottled water', 'rolls/buns'): 238, ('chocolate', 'rolls/buns'): 116, ('beef', 'rolls/buns'): 134, ('frankfurter', 'rolls/buns'): 189, ('rolls/buns', 'soda'): 377, ('fruit/vegetable juice', 'rolls/buns'): 143, ('newspapers', 'rolls/buns'): 194, ('pastry', 'rolls/buns'): 206, ('rolls/buns', 'root vegetables'): 239, ('canned beer', 'rolls/buns'): 111, ('rolls/buns', 'sausage'): 301, ('brown bread', 'rolls/buns'): 124, ('rolls/buns', 'shopping bags'): 192, ('napkins', 'rolls/buns'): 115, ('pork', 'rolls/buns'): 111, ('rolls/buns', 'whipped/sour cream'): 144, ('domestic eggs', 'rolls/buns'): 154, ('frozen vegetables', 'rolls/buns'): 100, ('bottled beer', 'bottled water'): 155, ('bottled beer', 'soda'): 167, ('soda', 'white bread'): 101, ('bottled water', 'soda'): 285, ('bottled water', 'fruit/vegetable juice'): 140, ('bottled water', 'newspapers'): 111, ('bottled water', 'root vegetables'): 154, ('bottled water', 'sausage'): 118, ('bottled water', 'shopping bags'): 108, ('chocolate', 'soda'): 133, ('curd', 'root vegetables'): 107, ('curd', 'whipped/sour cream'): 103, ('beef', 'root vegetables'): 171, ('frankfurter', 'soda'): 111, ('frankfurter', 'root vegetables'): 100, ('fruit/vegetable juice', 'soda'): 181, ('newspapers', 'soda'): 144, ('pastry', 'soda'): 207, ('root vegetables', 'soda'): 183, ('canned beer', 'soda'): 136, ('sausage', 'soda'): 239, ('brown bread', 'soda'): 124, ('shopping bags', 'soda'): 242, ('napkins', 'soda'): 118, ('pork', 'soda'): 117, ('soda', 'whipped/sour cream'): 114, ('domestic eggs', 'soda'): 122, ('chicken', 'root vegetables'): 107, ('fruit/vegetable juice', 'root vegetables'): 118, ('fruit/vegetable juice', 'shopping bags'): 105, ('newspapers', 'root vegetables'): 113, ('pastry', 'root vegetables'): 108, ('pastry', 'sausage'): 123, ('pastry', 'shopping bags'): 117, ('root vegetables', 'sausage'): 147, ('brown bread', 'root vegetables'): 100, ('root vegetables', 'shopping bags'): 126, ('pork', 'root vegetables'): 134, ('root vegetables', 'whipped/sour cream'): 168, ('domestic eggs', 'root vegetables'): 141, ('frozen vegetables', 'root vegetables'): 114, ('canned beer', 'shopping bags'): 112, ('brown bread', 'sausage'): 105, ('sausage', 'shopping bags'): 154}\n",
      "\n",
      "time taken:5.27835750579834\n",
      "k:3\n",
      "len:{('citrus fruit', 'whole milk', 'yogurt'): 101, ('citrus fruit', 'other vegetables', 'whole milk'): 128, ('citrus fruit', 'other vegetables', 'root vegetables'): 102, ('tropical fruit', 'whole milk', 'yogurt'): 149, ('other vegetables', 'tropical fruit', 'yogurt'): 121, ('other vegetables', 'tropical fruit', 'whole milk'): 168, ('rolls/buns', 'tropical fruit', 'whole milk'): 108, ('root vegetables', 'tropical fruit', 'whole milk'): 118, ('other vegetables', 'root vegetables', 'tropical fruit'): 121, ('other vegetables', 'whole milk', 'yogurt'): 219, ('rolls/buns', 'whole milk', 'yogurt'): 153, ('soda', 'whole milk', 'yogurt'): 103, ('root vegetables', 'whole milk', 'yogurt'): 143, ('whipped/sour cream', 'whole milk', 'yogurt'): 107, ('other vegetables', 'rolls/buns', 'yogurt'): 113, ('other vegetables', 'root vegetables', 'yogurt'): 127, ('other vegetables', 'whipped/sour cream', 'yogurt'): 100, ('other vegetables', 'pip fruit', 'whole milk'): 133, ('butter', 'other vegetables', 'whole milk'): 113, ('other vegetables', 'rolls/buns', 'whole milk'): 176, ('bottled water', 'other vegetables', 'whole milk'): 106, ('other vegetables', 'soda', 'whole milk'): 137, ('fruit/vegetable juice', 'other vegetables', 'whole milk'): 103, ('other vegetables', 'pastry', 'whole milk'): 104, ('other vegetables', 'root vegetables', 'whole milk'): 228, ('other vegetables', 'sausage', 'whole milk'): 100, ('other vegetables', 'pork', 'whole milk'): 100, ('other vegetables', 'whipped/sour cream', 'whole milk'): 144, ('domestic eggs', 'other vegetables', 'whole milk'): 121, ('rolls/buns', 'root vegetables', 'whole milk'): 125, ('other vegetables', 'rolls/buns', 'root vegetables'): 120}\n",
      "\n",
      "time taken:3.738041639328003\n",
      "k:4\n"
     ]
    },
    {
     "name": "stdout",
     "output_type": "stream",
     "text": [
      "len:{}\n",
      "\n",
      "time taken:1.4470746517181396\n",
      "k:5\n"
     ]
    }
   ],
   "source": [
    "import time\n",
    "total_items = len(mp[1])\n",
    "\n",
    "\n",
    "for k in range(2,10):\n",
    "    # Step 1: Generate candidate itemsets at level k\n",
    "    \n",
    "    start = time.time()\n",
    "    print('k:' + str(k))\n",
    "    temp_mp = {}\n",
    "    for i in mp[k-1].keys():\n",
    "        for j in mp[k-1].keys():\n",
    "            if i != j:\n",
    "                if intersection_count(i,j) == (k-2):\n",
    "                    new_itemset = union(i,j)\n",
    "#                     print('new itemset:' + str(new_itemset))\n",
    "                    temp_ls = list(new_itemset)\n",
    "                    if(new_itemset != () and temp_ls != None):\n",
    "                        temp_ls.sort()\n",
    "                        new_itemset = tuple(temp_ls)\n",
    "                    \n",
    "                    temp_mp[new_itemset] = 0\n",
    "    if temp_mp == {}:\n",
    "        break\n",
    "    \n",
    "    #Step 2: Read one transaction at a time\n",
    "    \n",
    "    filename = 'groceries.csv'\n",
    "    f = open(filename,'r')\n",
    "    for x in f:\n",
    "        word = ''\n",
    "        items = []\n",
    "        for i in range(len(x)):\n",
    "            if (x[i] == '\\n' or i == len(x) or ord(x[i]) == 10):\n",
    "                if(word != ''):\n",
    "                    items.append(word) \n",
    "                word = ''\n",
    "            elif(x[i] == ','):\n",
    "                if(word != ''):\n",
    "                    items.append(word)\n",
    "                word = ''    \n",
    "            else:\n",
    "                word += x[i] \n",
    "\n",
    "        \n",
    "        # Step 3: For each transaction, generate all subsets of length k, and increment the support of those candidate\n",
    "        # itemsets present in the generated subsets\n",
    "\n",
    "        k_subset = get_subset(items,k)\n",
    "        \n",
    "        \n",
    "        for itemset in k_subset:\n",
    "            temp_ls = list(itemset)\n",
    "            temp_ls.sort()\n",
    "            itemset = tuple(temp_ls)\n",
    "            if itemset in temp_mp.keys():\n",
    "                temp_mp[itemset] +=1 \n",
    "        \n",
    "        new_temp_mp = {}\n",
    "        \n",
    "        for i in temp_mp.keys():\n",
    "            if temp_mp[i] >= min_sup:\n",
    "                new_temp_mp[i] = temp_mp[i]\n",
    "    \n",
    "    print('len:' + str(new_temp_mp))\n",
    "    print()\n",
    "    end = time.time()\n",
    "    print('time taken:' + str(end-start))\n",
    "    mp.append(new_temp_mp)    "
   ]
  },
  {
   "cell_type": "code",
   "execution_count": 6,
   "metadata": {
    "scrolled": true
   },
   "outputs": [
    {
     "name": "stdout",
     "output_type": "stream",
     "text": [
      "{None: 0}\n",
      "\n",
      "{('citrus fruit',): 814, ('semi-finished bread',): 174, ('margarine',): 576, ('tropical fruit',): 1032, ('yogurt',): 1372, ('coffee',): 571, ('whole milk',): 2513, ('pip fruit',): 744, ('cream cheese',): 390, ('other vegetables',): 1903, ('condensed milk',): 101, ('long life bakery product',): 368, ('butter',): 545, ('rolls/buns',): 1809, ('UHT-milk',): 329, ('bottled beer',): 792, ('potted plants',): 170, ('white bread',): 414, ('bottled water',): 1087, ('chocolate',): 488, ('curd',): 524, ('flour',): 171, ('dishes',): 173, ('beef',): 516, ('frankfurter',): 580, ('soda',): 1715, ('chicken',): 422, ('sugar',): 333, ('fruit/vegetable juice',): 711, ('newspapers',): 785, ('packaged fruit/vegetables',): 128, ('specialty bar',): 269, ('butter milk',): 275, ('pastry',): 875, ('processed cheese',): 163, ('detergent',): 189, ('root vegetables',): 1072, ('frozen dessert',): 106, ('salty snack',): 372, ('waffles',): 378, ('candy',): 294, ('canned beer',): 764, ('sausage',): 924, ('brown bread',): 638, ('shopping bags',): 969, ('beverages',): 256, ('hamburger meat',): 327, ('hygiene articles',): 324, ('napkins',): 515, ('pork',): 567, ('berries',): 327, ('whipped/sour cream',): 705, ('grapes',): 220, ('dessert',): 365, ('domestic eggs',): 624, ('spread cheese',): 110, ('misc. beverages',): 279, ('hard cheese',): 241, ('cat food',): 229, ('ham',): 256, ('baking powder',): 174, ('pickled vegetables',): 176, ('oil',): 276, ('chewing gum',): 207, ('ice cream',): 246, ('frozen vegetables',): 473, ('canned fish',): 148, ('seasonal products',): 140, ('red/blush wine',): 189, ('specialty chocolate',): 299, ('flower (seeds)',): 102, ('salt',): 106, ('frozen meals',): 279, ('canned vegetables',): 106, ('onions',): 305, ('herbs',): 160, ('white wine',): 187, ('sliced cheese',): 241, ('pasta',): 148, ('cling film/bags',): 112, ('soft cheese',): 168, ('cake bar',): 130, ('frozen fish',): 115, ('dish cleaner',): 103, ('meat',): 254, ('mustard',): 118, ('liquor',): 109, ('roll products',): 101}\n",
      "\n",
      "{('citrus fruit', 'tropical fruit'): 196, ('citrus fruit', 'yogurt'): 213, ('citrus fruit', 'whole milk'): 300, ('citrus fruit', 'pip fruit'): 136, ('citrus fruit', 'other vegetables'): 284, ('citrus fruit', 'rolls/buns'): 165, ('bottled water', 'citrus fruit'): 133, ('citrus fruit', 'soda'): 126, ('citrus fruit', 'fruit/vegetable juice'): 102, ('citrus fruit', 'root vegetables'): 174, ('citrus fruit', 'sausage'): 111, ('citrus fruit', 'whipped/sour cream'): 107, ('citrus fruit', 'domestic eggs'): 102, ('margarine', 'yogurt'): 140, ('margarine', 'whole milk'): 238, ('margarine', 'other vegetables'): 194, ('margarine', 'rolls/buns'): 145, ('bottled water', 'margarine'): 101, ('margarine', 'soda'): 100, ('margarine', 'root vegetables'): 109, ('tropical fruit', 'yogurt'): 288, ('tropical fruit', 'whole milk'): 416, ('pip fruit', 'tropical fruit'): 201, ('other vegetables', 'tropical fruit'): 353, ('rolls/buns', 'tropical fruit'): 242, ('bottled water', 'tropical fruit'): 182, ('curd', 'tropical fruit'): 101, ('soda', 'tropical fruit'): 205, ('fruit/vegetable juice', 'tropical fruit'): 135, ('newspapers', 'tropical fruit'): 116, ('pastry', 'tropical fruit'): 130, ('root vegetables', 'tropical fruit'): 207, ('sausage', 'tropical fruit'): 137, ('brown bread', 'tropical fruit'): 105, ('shopping bags', 'tropical fruit'): 133, ('tropical fruit', 'whipped/sour cream'): 136, ('domestic eggs', 'tropical fruit'): 112, ('whole milk', 'yogurt'): 551, ('pip fruit', 'yogurt'): 177, ('cream cheese', 'yogurt'): 122, ('other vegetables', 'yogurt'): 427, ('butter', 'yogurt'): 144, ('rolls/buns', 'yogurt'): 338, ('bottled water', 'yogurt'): 226, ('curd', 'yogurt'): 170, ('beef', 'yogurt'): 115, ('frankfurter', 'yogurt'): 110, ('soda', 'yogurt'): 269, ('fruit/vegetable juice', 'yogurt'): 184, ('newspapers', 'yogurt'): 151, ('pastry', 'yogurt'): 174, ('root vegetables', 'yogurt'): 254, ('sausage', 'yogurt'): 193, ('brown bread', 'yogurt'): 143, ('shopping bags', 'yogurt'): 150, ('napkins', 'yogurt'): 121, ('berries', 'yogurt'): 104, ('whipped/sour cream', 'yogurt'): 204, ('domestic eggs', 'yogurt'): 141, ('frozen vegetables', 'yogurt'): 122, ('coffee', 'whole milk'): 184, ('coffee', 'other vegetables'): 132, ('coffee', 'rolls/buns'): 108, ('pip fruit', 'whole milk'): 296, ('cream cheese', 'whole milk'): 162, ('other vegetables', 'whole milk'): 736, ('long life bakery product', 'whole milk'): 133, ('butter', 'whole milk'): 271, ('rolls/buns', 'whole milk'): 557, ('bottled beer', 'whole milk'): 201, ('white bread', 'whole milk'): 168, ('bottled water', 'whole milk'): 338, ('chocolate', 'whole milk'): 164, ('curd', 'whole milk'): 257, ('beef', 'whole milk'): 209, ('frankfurter', 'whole milk'): 202, ('soda', 'whole milk'): 394, ('chicken', 'whole milk'): 173, ('sugar', 'whole milk'): 148, ('fruit/vegetable juice', 'whole milk'): 262, ('newspapers', 'whole milk'): 269, ('butter milk', 'whole milk'): 114, ('pastry', 'whole milk'): 327, ('root vegetables', 'whole milk'): 481, ('salty snack', 'whole milk'): 110, ('waffles', 'whole milk'): 125, ('sausage', 'whole milk'): 294, ('brown bread', 'whole milk'): 248, ('shopping bags', 'whole milk'): 241, ('hamburger meat', 'whole milk'): 145, ('hygiene articles', 'whole milk'): 126, ('napkins', 'whole milk'): 194, ('pork', 'whole milk'): 218, ('berries', 'whole milk'): 116, ('whipped/sour cream', 'whole milk'): 317, ('dessert', 'whole milk'): 135, ('domestic eggs', 'whole milk'): 295, ('ham', 'whole milk'): 113, ('oil', 'whole milk'): 111, ('frozen vegetables', 'whole milk'): 201, ('onions', 'whole milk'): 119, ('sliced cheese', 'whole milk'): 106, ('other vegetables', 'pip fruit'): 257, ('pip fruit', 'rolls/buns'): 137, ('bottled water', 'pip fruit'): 104, ('pip fruit', 'soda'): 131, ('pastry', 'pip fruit'): 105, ('pip fruit', 'root vegetables'): 153, ('pip fruit', 'sausage'): 106, ('cream cheese', 'other vegetables'): 135, ('long life bakery product', 'other vegetables'): 105, ('butter', 'other vegetables'): 197, ('other vegetables', 'rolls/buns'): 419, ('bottled beer', 'other vegetables'): 159, ('other vegetables', 'white bread'): 135, ('bottled water', 'other vegetables'): 244, ('chocolate', 'other vegetables'): 125, ('curd', 'other vegetables'): 169, ('beef', 'other vegetables'): 194, ('frankfurter', 'other vegetables'): 162, ('other vegetables', 'soda'): 322, ('chicken', 'other vegetables'): 176, ('other vegetables', 'sugar'): 106, ('fruit/vegetable juice', 'other vegetables'): 207, ('newspapers', 'other vegetables'): 190, ('butter milk', 'other vegetables'): 102, ('other vegetables', 'pastry'): 222, ('other vegetables', 'root vegetables'): 466, ('other vegetables', 'salty snack'): 106, ('other vegetables', 'sausage'): 265, ('brown bread', 'other vegetables'): 184, ('other vegetables', 'shopping bags'): 228, ('hamburger meat', 'other vegetables'): 136, ('napkins', 'other vegetables'): 142, ('other vegetables', 'pork'): 213, ('berries', 'other vegetables'): 101, ('other vegetables', 'whipped/sour cream'): 284, ('dessert', 'other vegetables'): 114, ('domestic eggs', 'other vegetables'): 219, ('frozen vegetables', 'other vegetables'): 175, ('onions', 'other vegetables'): 140, ('butter', 'rolls/buns'): 132, ('butter', 'root vegetables'): 127, ('butter', 'whipped/sour cream'): 100, ('bottled beer', 'rolls/buns'): 134, ('bottled water', 'rolls/buns'): 238, ('chocolate', 'rolls/buns'): 116, ('beef', 'rolls/buns'): 134, ('frankfurter', 'rolls/buns'): 189, ('rolls/buns', 'soda'): 377, ('fruit/vegetable juice', 'rolls/buns'): 143, ('newspapers', 'rolls/buns'): 194, ('pastry', 'rolls/buns'): 206, ('rolls/buns', 'root vegetables'): 239, ('canned beer', 'rolls/buns'): 111, ('rolls/buns', 'sausage'): 301, ('brown bread', 'rolls/buns'): 124, ('rolls/buns', 'shopping bags'): 192, ('napkins', 'rolls/buns'): 115, ('pork', 'rolls/buns'): 111, ('rolls/buns', 'whipped/sour cream'): 144, ('domestic eggs', 'rolls/buns'): 154, ('frozen vegetables', 'rolls/buns'): 100, ('bottled beer', 'bottled water'): 155, ('bottled beer', 'soda'): 167, ('soda', 'white bread'): 101, ('bottled water', 'soda'): 285, ('bottled water', 'fruit/vegetable juice'): 140, ('bottled water', 'newspapers'): 111, ('bottled water', 'root vegetables'): 154, ('bottled water', 'sausage'): 118, ('bottled water', 'shopping bags'): 108, ('chocolate', 'soda'): 133, ('curd', 'root vegetables'): 107, ('curd', 'whipped/sour cream'): 103, ('beef', 'root vegetables'): 171, ('frankfurter', 'soda'): 111, ('frankfurter', 'root vegetables'): 100, ('fruit/vegetable juice', 'soda'): 181, ('newspapers', 'soda'): 144, ('pastry', 'soda'): 207, ('root vegetables', 'soda'): 183, ('canned beer', 'soda'): 136, ('sausage', 'soda'): 239, ('brown bread', 'soda'): 124, ('shopping bags', 'soda'): 242, ('napkins', 'soda'): 118, ('pork', 'soda'): 117, ('soda', 'whipped/sour cream'): 114, ('domestic eggs', 'soda'): 122, ('chicken', 'root vegetables'): 107, ('fruit/vegetable juice', 'root vegetables'): 118, ('fruit/vegetable juice', 'shopping bags'): 105, ('newspapers', 'root vegetables'): 113, ('pastry', 'root vegetables'): 108, ('pastry', 'sausage'): 123, ('pastry', 'shopping bags'): 117, ('root vegetables', 'sausage'): 147, ('brown bread', 'root vegetables'): 100, ('root vegetables', 'shopping bags'): 126, ('pork', 'root vegetables'): 134, ('root vegetables', 'whipped/sour cream'): 168, ('domestic eggs', 'root vegetables'): 141, ('frozen vegetables', 'root vegetables'): 114, ('canned beer', 'shopping bags'): 112, ('brown bread', 'sausage'): 105, ('sausage', 'shopping bags'): 154}\n",
      "\n",
      "{('citrus fruit', 'whole milk', 'yogurt'): 101, ('citrus fruit', 'other vegetables', 'whole milk'): 128, ('citrus fruit', 'other vegetables', 'root vegetables'): 102, ('tropical fruit', 'whole milk', 'yogurt'): 149, ('other vegetables', 'tropical fruit', 'yogurt'): 121, ('other vegetables', 'tropical fruit', 'whole milk'): 168, ('rolls/buns', 'tropical fruit', 'whole milk'): 108, ('root vegetables', 'tropical fruit', 'whole milk'): 118, ('other vegetables', 'root vegetables', 'tropical fruit'): 121, ('other vegetables', 'whole milk', 'yogurt'): 219, ('rolls/buns', 'whole milk', 'yogurt'): 153, ('soda', 'whole milk', 'yogurt'): 103, ('root vegetables', 'whole milk', 'yogurt'): 143, ('whipped/sour cream', 'whole milk', 'yogurt'): 107, ('other vegetables', 'rolls/buns', 'yogurt'): 113, ('other vegetables', 'root vegetables', 'yogurt'): 127, ('other vegetables', 'whipped/sour cream', 'yogurt'): 100, ('other vegetables', 'pip fruit', 'whole milk'): 133, ('butter', 'other vegetables', 'whole milk'): 113, ('other vegetables', 'rolls/buns', 'whole milk'): 176, ('bottled water', 'other vegetables', 'whole milk'): 106, ('other vegetables', 'soda', 'whole milk'): 137, ('fruit/vegetable juice', 'other vegetables', 'whole milk'): 103, ('other vegetables', 'pastry', 'whole milk'): 104, ('other vegetables', 'root vegetables', 'whole milk'): 228, ('other vegetables', 'sausage', 'whole milk'): 100, ('other vegetables', 'pork', 'whole milk'): 100, ('other vegetables', 'whipped/sour cream', 'whole milk'): 144, ('domestic eggs', 'other vegetables', 'whole milk'): 121, ('rolls/buns', 'root vegetables', 'whole milk'): 125, ('other vegetables', 'rolls/buns', 'root vegetables'): 120}\n",
      "\n",
      "{}\n",
      "\n"
     ]
    }
   ],
   "source": [
    "for i in range(len(mp)):\n",
    "    print((mp[i]))\n",
    "    print()"
   ]
  },
  {
   "cell_type": "code",
   "execution_count": null,
   "metadata": {},
   "outputs": [],
   "source": []
  },
  {
   "cell_type": "code",
   "execution_count": null,
   "metadata": {},
   "outputs": [],
   "source": []
  },
  {
   "cell_type": "code",
   "execution_count": null,
   "metadata": {},
   "outputs": [],
   "source": []
  }
 ],
 "metadata": {
  "kernelspec": {
   "display_name": "Python 3",
   "language": "python",
   "name": "python3"
  },
  "language_info": {
   "codemirror_mode": {
    "name": "ipython",
    "version": 3
   },
   "file_extension": ".py",
   "mimetype": "text/x-python",
   "name": "python",
   "nbconvert_exporter": "python",
   "pygments_lexer": "ipython3",
   "version": "3.7.7"
  }
 },
 "nbformat": 4,
 "nbformat_minor": 2
}
